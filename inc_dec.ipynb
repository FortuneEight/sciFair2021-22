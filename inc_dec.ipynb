{
 "cells": [
  {
   "cell_type": "code",
   "execution_count": 1,
   "source": [
    "import pandas as pd"
   ],
   "outputs": [],
   "metadata": {}
  },
  {
   "cell_type": "code",
   "execution_count": 2,
   "source": [
    "x = [1, 2, 3, 4, 5]\r\n",
    "y = [0, 3, 4, 5, 3]"
   ],
   "outputs": [],
   "metadata": {}
  },
  {
   "cell_type": "code",
   "execution_count": 4,
   "source": [
    "z = pd.DataFrame({\"xCol\": x, \"yCol\": y})\r\n",
    "print(type(z))\r\n",
    "print(z)"
   ],
   "outputs": [
    {
     "output_type": "stream",
     "name": "stdout",
     "text": [
      "<class 'pandas.core.frame.DataFrame'>\n",
      "   xCol  yCol\n",
      "0     1     0\n",
      "1     2     3\n",
      "2     3     4\n",
      "3     4     5\n",
      "4     5     3\n"
     ]
    }
   ],
   "metadata": {}
  },
  {
   "cell_type": "code",
   "execution_count": 6,
   "source": [
    "inc = z[\"xCol\"] > z[\"yCol\"]\r\n",
    "dec = z[\"yCol\"] > z[\"xCol\"]\r\n",
    "print(type(inc))\r\n",
    "print(inc)"
   ],
   "outputs": [
    {
     "output_type": "stream",
     "name": "stdout",
     "text": [
      "<class 'pandas.core.series.Series'>\n",
      "0     True\n",
      "1    False\n",
      "2    False\n",
      "3    False\n",
      "4     True\n",
      "dtype: bool\n"
     ]
    }
   ],
   "metadata": {}
  }
 ],
 "metadata": {
  "orig_nbformat": 4,
  "language_info": {
   "name": "python",
   "version": "3.9.4",
   "mimetype": "text/x-python",
   "codemirror_mode": {
    "name": "ipython",
    "version": 3
   },
   "pygments_lexer": "ipython3",
   "nbconvert_exporter": "python",
   "file_extension": ".py"
  },
  "kernelspec": {
   "name": "python3",
   "display_name": "Python 3.9.4 64-bit"
  },
  "interpreter": {
   "hash": "141a11ca8e697ae01f1e802748090677a6ea4f99c5f8c14f4bb0cd9308c420e3"
  }
 },
 "nbformat": 4,
 "nbformat_minor": 2
}
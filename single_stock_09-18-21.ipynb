{
 "cells": [
  {
   "cell_type": "markdown",
   "source": [
    "<h1 align=\"center\"><b>Stock Market Technical Analysis</b></h1>\r\n",
    "<h2 align=\"center\"><b>Algorithmic Approach</b></h2>\r\n",
    "<h2 align=\"center\"><b>for</b></h2>\r\n",
    "<h2 align=\"center\"><b>Investing in the Stock Market</b></h2>\r\n",
    "<h2 align=\"center\"><b>using Python</b></h2>\r\n",
    "<br>\r\n",
    "<h1 align=\"center\"><b>Miguel Secillano</b></h1>\r\n",
    "<h3 align=\"center\"><b>(2021/2022 Science Fair Project)</b></h3>"
   ],
   "metadata": {}
  },
  {
   "cell_type": "markdown",
   "source": [
    "<hr>\r\n",
    "<br>\r\n",
    "<h1 align=\"center\"><b>Notebook 1</b></h1>\r\n",
    "<h2 align=\"center\"><b>Single Stock</b></h2>\r\n",
    "<h3 align=\"center\"><b>(Initial Experimentation)</b></h3>\r\n",
    "<br>\r\n",
    "<hr>\r\n",
    "<br>"
   ],
   "metadata": {}
  },
  {
   "cell_type": "code",
   "execution_count": 66,
   "source": [
    "# #%%\r\n",
    "# %load_ext autoreload\r\n",
    "# %autoreload 2\r\n",
    "\r\n",
    "# Load necessary library modules\r\n",
    "import yfinance as yf # Yahoo Finance, where the data comes from\r\n",
    "import pandas as pd # Data Analysis\r\n",
    "import matplotlib.pyplot as plt # Data Visualization\r\n",
    "import matplotlib.ticker as mtick # Data Visualization Formatter\r\n",
    "\r\n",
    "plt.style.use(\"seaborn\")"
   ],
   "outputs": [],
   "metadata": {}
  },
  {
   "cell_type": "code",
   "execution_count": 67,
   "source": [
    "def list_dictionary_pairs(dict):\r\n",
    "    print_stock_symbol_name(dict)\r\n",
    "    for key, value in dict.items():\r\n",
    "        print(key, \":\", value)\r\n",
    "\r\n",
    "\r\n",
    "def print_stock_symbol_name(dict):\r\n",
    "    print(dict[\"symbol\"] + \":\", dict[\"shortName\"])\r\n",
    "    print(\"=\" * 40)\r\n",
    "\r\n",
    "\r\n",
    "def get_historial_data(ticker):\r\n",
    "    return ticker.history(period=\"max\")\r\n"
   ],
   "outputs": [],
   "metadata": {}
  },
  {
   "cell_type": "code",
   "execution_count": 68,
   "source": [
    "stock = \"^GSPC\" # stock symbol ^GSPC\r\n",
    "stock_ticker = yf.Ticker(stock)"
   ],
   "outputs": [],
   "metadata": {}
  },
  {
   "cell_type": "code",
   "execution_count": 69,
   "source": [
    "stock_info = stock_ticker.info"
   ],
   "outputs": [],
   "metadata": {}
  },
  {
   "cell_type": "code",
   "execution_count": 70,
   "source": [
    "df_history = get_historial_data(stock_ticker) # gets historical data"
   ],
   "outputs": [],
   "metadata": {}
  },
  {
   "cell_type": "code",
   "execution_count": 71,
   "source": [
    "print(df_history)"
   ],
   "outputs": [
    {
     "output_type": "stream",
     "name": "stdout",
     "text": [
      "                   Open         High          Low        Close      Volume  \\\n",
      "Date                                                                         \n",
      "1927-12-30    17.660000    17.660000    17.660000    17.660000           0   \n",
      "1928-01-03    17.760000    17.760000    17.760000    17.760000           0   \n",
      "1928-01-04    17.719999    17.719999    17.719999    17.719999           0   \n",
      "1928-01-05    17.549999    17.549999    17.549999    17.549999           0   \n",
      "1928-01-06    17.660000    17.660000    17.660000    17.660000           0   \n",
      "...                 ...          ...          ...          ...         ...   \n",
      "2021-09-13  4474.810059  4492.990234  4445.700195  4468.729980  3096390000   \n",
      "2021-09-14  4479.330078  4485.680176  4435.459961  4443.049805  2568730000   \n",
      "2021-09-15  4447.490234  4486.870117  4438.370117  4480.700195  3154760000   \n",
      "2021-09-16  4477.089844  4485.870117  4443.799805  4473.750000  3321030000   \n",
      "2021-09-17  4469.740234  4471.520020  4427.759766  4432.990234  5622210000   \n",
      "\n",
      "            Dividends  Stock Splits  \n",
      "Date                                 \n",
      "1927-12-30          0             0  \n",
      "1928-01-03          0             0  \n",
      "1928-01-04          0             0  \n",
      "1928-01-05          0             0  \n",
      "1928-01-06          0             0  \n",
      "...               ...           ...  \n",
      "2021-09-13          0             0  \n",
      "2021-09-14          0             0  \n",
      "2021-09-15          0             0  \n",
      "2021-09-16          0             0  \n",
      "2021-09-17          0             0  \n",
      "\n",
      "[23541 rows x 7 columns]\n"
     ]
    }
   ],
   "metadata": {}
  },
  {
   "cell_type": "code",
   "execution_count": 72,
   "source": [
    "df_history.info()"
   ],
   "outputs": [
    {
     "output_type": "stream",
     "name": "stdout",
     "text": [
      "<class 'pandas.core.frame.DataFrame'>\n",
      "DatetimeIndex: 23541 entries, 1927-12-30 to 2021-09-17\n",
      "Data columns (total 7 columns):\n",
      " #   Column        Non-Null Count  Dtype  \n",
      "---  ------        --------------  -----  \n",
      " 0   Open          23541 non-null  float64\n",
      " 1   High          23541 non-null  float64\n",
      " 2   Low           23541 non-null  float64\n",
      " 3   Close         23541 non-null  float64\n",
      " 4   Volume        23541 non-null  int64  \n",
      " 5   Dividends     23541 non-null  int64  \n",
      " 6   Stock Splits  23541 non-null  int64  \n",
      "dtypes: float64(4), int64(3)\n",
      "memory usage: 1.4 MB\n"
     ]
    }
   ],
   "metadata": {}
  },
  {
   "cell_type": "code",
   "execution_count": 73,
   "source": [
    "df_history.columns"
   ],
   "outputs": [
    {
     "output_type": "execute_result",
     "data": {
      "text/plain": [
       "Index(['Open', 'High', 'Low', 'Close', 'Volume', 'Dividends', 'Stock Splits'], dtype='object')"
      ]
     },
     "metadata": {},
     "execution_count": 73
    }
   ],
   "metadata": {}
  },
  {
   "cell_type": "code",
   "execution_count": 74,
   "source": [
    "# deletes the Dividends and Stock Splits columns from data; we don't need them\r\n",
    "df_history.drop(\"Dividends\", axis=1, inplace=True)\r\n",
    "df_history.drop(\"Stock Splits\", axis=1, inplace=True)\r\n",
    "df_history.columns"
   ],
   "outputs": [
    {
     "output_type": "execute_result",
     "data": {
      "text/plain": [
       "Index(['Open', 'High', 'Low', 'Close', 'Volume'], dtype='object')"
      ]
     },
     "metadata": {},
     "execution_count": 74
    }
   ],
   "metadata": {}
  },
  {
   "cell_type": "code",
   "execution_count": 75,
   "source": [
    "daily_return = df_history[\"Close\"].pct_change(1)"
   ],
   "outputs": [],
   "metadata": {}
  },
  {
   "cell_type": "code",
   "execution_count": 76,
   "source": [
    "daily_return[1:]"
   ],
   "outputs": [
    {
     "output_type": "execute_result",
     "data": {
      "text/plain": [
       "Date\n",
       "1928-01-03    0.005663\n",
       "1928-01-04   -0.002252\n",
       "1928-01-05   -0.009594\n",
       "1928-01-06    0.006268\n",
       "1928-01-09   -0.009060\n",
       "                ...   \n",
       "2021-09-13    0.002276\n",
       "2021-09-14   -0.005747\n",
       "2021-09-15    0.008474\n",
       "2021-09-16   -0.001551\n",
       "2021-09-17   -0.009111\n",
       "Name: Close, Length: 23540, dtype: float64"
      ]
     },
     "metadata": {},
     "execution_count": 76
    }
   ],
   "metadata": {}
  },
  {
   "cell_type": "code",
   "execution_count": 77,
   "source": [
    "df_history[\"Daily Return\"] = daily_return"
   ],
   "outputs": [],
   "metadata": {}
  },
  {
   "cell_type": "code",
   "execution_count": 78,
   "source": [
    "df_history.columns"
   ],
   "outputs": [
    {
     "output_type": "execute_result",
     "data": {
      "text/plain": [
       "Index(['Open', 'High', 'Low', 'Close', 'Volume', 'Daily Return'], dtype='object')"
      ]
     },
     "metadata": {},
     "execution_count": 78
    }
   ],
   "metadata": {}
  },
  {
   "cell_type": "code",
   "execution_count": 79,
   "source": [
    "df_history"
   ],
   "outputs": [
    {
     "output_type": "execute_result",
     "data": {
      "text/html": [
       "<div>\n",
       "<style scoped>\n",
       "    .dataframe tbody tr th:only-of-type {\n",
       "        vertical-align: middle;\n",
       "    }\n",
       "\n",
       "    .dataframe tbody tr th {\n",
       "        vertical-align: top;\n",
       "    }\n",
       "\n",
       "    .dataframe thead th {\n",
       "        text-align: right;\n",
       "    }\n",
       "</style>\n",
       "<table border=\"1\" class=\"dataframe\">\n",
       "  <thead>\n",
       "    <tr style=\"text-align: right;\">\n",
       "      <th></th>\n",
       "      <th>Open</th>\n",
       "      <th>High</th>\n",
       "      <th>Low</th>\n",
       "      <th>Close</th>\n",
       "      <th>Volume</th>\n",
       "      <th>Daily Return</th>\n",
       "    </tr>\n",
       "    <tr>\n",
       "      <th>Date</th>\n",
       "      <th></th>\n",
       "      <th></th>\n",
       "      <th></th>\n",
       "      <th></th>\n",
       "      <th></th>\n",
       "      <th></th>\n",
       "    </tr>\n",
       "  </thead>\n",
       "  <tbody>\n",
       "    <tr>\n",
       "      <th>1927-12-30</th>\n",
       "      <td>17.660000</td>\n",
       "      <td>17.660000</td>\n",
       "      <td>17.660000</td>\n",
       "      <td>17.660000</td>\n",
       "      <td>0</td>\n",
       "      <td>NaN</td>\n",
       "    </tr>\n",
       "    <tr>\n",
       "      <th>1928-01-03</th>\n",
       "      <td>17.760000</td>\n",
       "      <td>17.760000</td>\n",
       "      <td>17.760000</td>\n",
       "      <td>17.760000</td>\n",
       "      <td>0</td>\n",
       "      <td>0.005663</td>\n",
       "    </tr>\n",
       "    <tr>\n",
       "      <th>1928-01-04</th>\n",
       "      <td>17.719999</td>\n",
       "      <td>17.719999</td>\n",
       "      <td>17.719999</td>\n",
       "      <td>17.719999</td>\n",
       "      <td>0</td>\n",
       "      <td>-0.002252</td>\n",
       "    </tr>\n",
       "    <tr>\n",
       "      <th>1928-01-05</th>\n",
       "      <td>17.549999</td>\n",
       "      <td>17.549999</td>\n",
       "      <td>17.549999</td>\n",
       "      <td>17.549999</td>\n",
       "      <td>0</td>\n",
       "      <td>-0.009594</td>\n",
       "    </tr>\n",
       "    <tr>\n",
       "      <th>1928-01-06</th>\n",
       "      <td>17.660000</td>\n",
       "      <td>17.660000</td>\n",
       "      <td>17.660000</td>\n",
       "      <td>17.660000</td>\n",
       "      <td>0</td>\n",
       "      <td>0.006268</td>\n",
       "    </tr>\n",
       "    <tr>\n",
       "      <th>...</th>\n",
       "      <td>...</td>\n",
       "      <td>...</td>\n",
       "      <td>...</td>\n",
       "      <td>...</td>\n",
       "      <td>...</td>\n",
       "      <td>...</td>\n",
       "    </tr>\n",
       "    <tr>\n",
       "      <th>2021-09-13</th>\n",
       "      <td>4474.810059</td>\n",
       "      <td>4492.990234</td>\n",
       "      <td>4445.700195</td>\n",
       "      <td>4468.729980</td>\n",
       "      <td>3096390000</td>\n",
       "      <td>0.002276</td>\n",
       "    </tr>\n",
       "    <tr>\n",
       "      <th>2021-09-14</th>\n",
       "      <td>4479.330078</td>\n",
       "      <td>4485.680176</td>\n",
       "      <td>4435.459961</td>\n",
       "      <td>4443.049805</td>\n",
       "      <td>2568730000</td>\n",
       "      <td>-0.005747</td>\n",
       "    </tr>\n",
       "    <tr>\n",
       "      <th>2021-09-15</th>\n",
       "      <td>4447.490234</td>\n",
       "      <td>4486.870117</td>\n",
       "      <td>4438.370117</td>\n",
       "      <td>4480.700195</td>\n",
       "      <td>3154760000</td>\n",
       "      <td>0.008474</td>\n",
       "    </tr>\n",
       "    <tr>\n",
       "      <th>2021-09-16</th>\n",
       "      <td>4477.089844</td>\n",
       "      <td>4485.870117</td>\n",
       "      <td>4443.799805</td>\n",
       "      <td>4473.750000</td>\n",
       "      <td>3321030000</td>\n",
       "      <td>-0.001551</td>\n",
       "    </tr>\n",
       "    <tr>\n",
       "      <th>2021-09-17</th>\n",
       "      <td>4469.740234</td>\n",
       "      <td>4471.520020</td>\n",
       "      <td>4427.759766</td>\n",
       "      <td>4432.990234</td>\n",
       "      <td>5622210000</td>\n",
       "      <td>-0.009111</td>\n",
       "    </tr>\n",
       "  </tbody>\n",
       "</table>\n",
       "<p>23541 rows × 6 columns</p>\n",
       "</div>"
      ],
      "text/plain": [
       "                   Open         High          Low        Close      Volume  \\\n",
       "Date                                                                         \n",
       "1927-12-30    17.660000    17.660000    17.660000    17.660000           0   \n",
       "1928-01-03    17.760000    17.760000    17.760000    17.760000           0   \n",
       "1928-01-04    17.719999    17.719999    17.719999    17.719999           0   \n",
       "1928-01-05    17.549999    17.549999    17.549999    17.549999           0   \n",
       "1928-01-06    17.660000    17.660000    17.660000    17.660000           0   \n",
       "...                 ...          ...          ...          ...         ...   \n",
       "2021-09-13  4474.810059  4492.990234  4445.700195  4468.729980  3096390000   \n",
       "2021-09-14  4479.330078  4485.680176  4435.459961  4443.049805  2568730000   \n",
       "2021-09-15  4447.490234  4486.870117  4438.370117  4480.700195  3154760000   \n",
       "2021-09-16  4477.089844  4485.870117  4443.799805  4473.750000  3321030000   \n",
       "2021-09-17  4469.740234  4471.520020  4427.759766  4432.990234  5622210000   \n",
       "\n",
       "            Daily Return  \n",
       "Date                      \n",
       "1927-12-30           NaN  \n",
       "1928-01-03      0.005663  \n",
       "1928-01-04     -0.002252  \n",
       "1928-01-05     -0.009594  \n",
       "1928-01-06      0.006268  \n",
       "...                  ...  \n",
       "2021-09-13      0.002276  \n",
       "2021-09-14     -0.005747  \n",
       "2021-09-15      0.008474  \n",
       "2021-09-16     -0.001551  \n",
       "2021-09-17     -0.009111  \n",
       "\n",
       "[23541 rows x 6 columns]"
      ]
     },
     "metadata": {},
     "execution_count": 79
    }
   ],
   "metadata": {}
  },
  {
   "cell_type": "code",
   "execution_count": 80,
   "source": [
    "# makes plot for data\r\n",
    "plt.figure(figsize=(16,9))\r\n",
    "plt.plot(df_history[\"Close\"], label=\"S&P 500 Close\")\r\n",
    "plt.title(\"S&P 500 History\", fontsize=25, fontweight=\"bold\")\r\n",
    "plt.xlabel(\"Time (1928-current)\", fontsize=20)\r\n",
    "plt.ylabel(\"Closing Price (in U.S. dollars)\", fontsize=20)\r\n",
    "plt.xticks(fontsize=14)\r\n",
    "plt.yticks(fontsize=14)\r\n",
    "plt.legend(loc=\"upper left\", fontsize=14)\r\n",
    "plt.show()"
   ],
   "outputs": [
    {
     "output_type": "display_data",
     "data": {
      "image/png": "[encoded data removed]",
      "text/plain": [
       "<Figure size 1152x648 with 1 Axes>"
      ]
     },
     "metadata": {}
    }
   ],
   "metadata": {}
  },
  {
   "cell_type": "code",
   "execution_count": 81,
   "source": [
    "daily_return_rate = []\r\n",
    "monthly_return_rate = {\"01\": 0, \"02\": 0, \"03\": 0, \"04\": 0, \"05\": 0, \"06\": 0,\r\n",
    "                       \"07\": 0, \"08\": 0, \"09\": 0, \"10\": 0, \"11\": 0, \"12\": 0}\r\n",
    "sum = 0\r\n",
    "for i in range(1, len(df_history) - 1):\r\n",
    "    month = str(df_history.index[i]).split(\"-\")[1]\r\n",
    "    drr = df_history[\"Daily Return\"][i]\r\n",
    "    daily_return_rate.append((month, drr))\r\n",
    "    monthly_return_rate[month] += drr\r\n",
    "monthly_return_rate"
   ],
   "outputs": [
    {
     "output_type": "execute_result",
     "data": {
      "text/plain": [
       "{'01': 1.1401213977701072,\n",
       " '02': -0.06886602780141293,\n",
       " '03': 0.45518719239995975,\n",
       " '04': 1.3217151761502346,\n",
       " '05': -0.07730973962063203,\n",
       " '06': 0.7349681106642892,\n",
       " '07': 1.4648312601589217,\n",
       " '08': 0.6533595640734299,\n",
       " '09': -0.9775309569779927,\n",
       " '10': 0.486550017398222,\n",
       " '11': 0.8192954241753544,\n",
       " '12': 1.2724005008379928}"
      ]
     },
     "metadata": {},
     "execution_count": 81
    }
   ],
   "metadata": {}
  },
  {
   "cell_type": "code",
   "execution_count": 82,
   "source": [
    "# makes plot for data\r\n",
    "fig = plt.figure(figsize=(16,9))\r\n",
    "ax = fig.add_subplot(1, 1, 1)\r\n",
    "plt.bar(monthly_return_rate.keys(), height=monthly_return_rate.values())\r\n",
    "plt.title(\"S&P 500 Monthly Historical Returns\", fontsize=25, fontweight=\"bold\")\r\n",
    "plt.xlabel(\"Months\", fontsize=20)\r\n",
    "plt.ylabel(\"Monthly Return Rate\", fontsize=20)\r\n",
    "plt.xticks(fontsize=14)\r\n",
    "plt.yticks(fontsize=14)\r\n",
    "ax.yaxis.set_major_formatter(mtick.PercentFormatter())\r\n",
    "plt.show()"
   ],
   "outputs": [
    {
     "output_type": "display_data",
     "data": {
      "image/png": "[encoded data removed]",
      "text/plain": [
       "<Figure size 1152x648 with 1 Axes>"
      ]
     },
     "metadata": {}
    }
   ],
   "metadata": {}
  }
 ],
 "metadata": {
  "orig_nbformat": 4,
  "language_info": {
   "name": "python",
   "version": "3.9.4",
   "mimetype": "text/x-python",
   "codemirror_mode": {
    "name": "ipython",
    "version": 3
   },
   "pygments_lexer": "ipython3",
   "nbconvert_exporter": "python",
   "file_extension": ".py"
  },
  "kernelspec": {
   "name": "python3",
   "display_name": "Python 3.9.4 64-bit"
  },
  "interpreter": {
   "hash": "141a11ca8e697ae01f1e802748090677a6ea4f99c5f8c14f4bb0cd9308c420e3"
  }
 },
 "nbformat": 4,
 "nbformat_minor": 2
}